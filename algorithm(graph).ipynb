{
 "cells": [
  {
   "cell_type": "markdown",
   "metadata": {},
   "source": [
    "## **Algorithmic Question (AQ):**\n",
    "\n",
    "*Arya needs to travel between cities using a network of flights. Each flight has a fixed cost (in euros), and she wants to find the cheapest possible way to travel from her starting city to her destination city. However, there are some constraints on the journey:*\n",
    "\n",
    "- Arya can make at most k stops during her trip (this means up to k+1 flights).\n",
    "    \n",
    "- If no valid route exists within these constraints, the result should be -1.\n",
    "\n",
    "**Given a graph of cities connected by flights, your job is to find the minimum cost for Arya to travel between two specified cities (src to dst) while following the constraints.**\n",
    "\n"
   ]
  },
  {
   "cell_type": "markdown",
   "metadata": {},
   "source": [
    "#### **Your Task**\n",
    "- a) *Write a pseudocode that describes the algorithm to find the cheapest route with at most k stops.*\n",
    "\n",
    "- b) *Implement the algorithm in Python and simulate the given test cases.*\n",
    "\n",
    "- c) *Analyze the algorithm's efficiency. Provide its time complexity and space complexity, and explain whether it is efficient for large graphs (e.g., n > 100).*\n",
    "\n",
    "- d) *Optimize the algorithm to handle larger graphs. Provide an updated pseudocode and analyze the computational complexity of your optimization.*\n",
    "\n",
    "- e) *Ask LLM (e.g., ChatGPT) for an optimized version of your algorithm. Compare its solution to yours in terms of performance, time complexity, and correctness.*\n",
    "\n"
   ]
  },
  {
   "cell_type": "markdown",
   "metadata": {},
   "source": [
    "### a) *Write a pseudocode that describes the algorithm to find the cheapest route with at most k stops.*"
   ]
  },
  {
   "cell_type": "markdown",
   "metadata": {},
   "source": [
    "## Pseudocode for the Basic Algorithm FindCheapestRoute(n, flights, src, dst, k)\n",
    "\n",
    "    // Create adjacency list representation of flights\n",
    "    INITIALIZE graph as a dictionary of lists\n",
    "    FOR EACH flight IN flights DO\n",
    "        ADD (destination, cost) to graph[source]\n",
    "    \n",
    "    // Queue to manage routes\n",
    "    INITIALIZE queue as a deque\n",
    "    queue.push((src, 0, k+1))  // (current_city, total_cost, stops_remaining)\n",
    "    \n",
    "    // Visited state tracking\n",
    "    INITIALIZE visited as a dictionary with default value as infinity\n",
    "    visited[(src, k+1)] = 0  // Minimum cost to reach src with k+1 stops is 0\n",
    "    \n",
    "    // Start exploration\n",
    "    WHILE queue is not empty DO\n",
    "        (current_city, current_cost, stops_left) = queue.popLeft()\n",
    "        \n",
    "        // Destination reached\n",
    "        IF current_city == dst THEN\n",
    "            RETURN current_cost\n",
    "        \n",
    "        // Explore neighboring cities if stops are available\n",
    "        IF stops_left > 0 THEN\n",
    "            FOR EACH (neighbor, flight_cost) IN graph[current_city] DO\n",
    "                new_cost = current_cost + flight_cost\n",
    "                \n",
    "                // Update only if the new cost is better\n",
    "                IF new_cost < visited[(neighbor, stops_left - 1)] THEN\n",
    "                    visited[(neighbor, stops_left - 1)] = new_cost\n",
    "                    queue.push((neighbor, new_cost, stops_left - 1))\n",
    "    \n",
    "    // No route found\n",
    "    RETURN -1"
   ]
  },
  {
   "cell_type": "code",
   "execution_count": 45,
   "metadata": {},
   "outputs": [],
   "source": [
    "from heapq import heappush, heappop\n",
    "\n",
    "def find_cheapest_route_v1(n, flights, src, dst, k):\n",
    "    # create adjacence list \n",
    "    graph = [[] for _ in range(n)]\n",
    "    for start, end, price in flights :\n",
    "        graph[start].append((end, price))\n",
    "\n",
    "    # priority queue to store (total_cost , current_city , stops_remaining)\n",
    "    # we use min heap to always process cheapest routes first\n",
    "    heap = [(0, src, k+1)]\n",
    "\n",
    "    min_cost = {}\n",
    "\n",
    "    while heap:\n",
    "        current_cost, current_city, remaining_stops = heappop(heap)\n",
    "\n",
    "        if current_city == dst :\n",
    "            return current_cost\n",
    "        \n",
    "        if remaining_stops <= 0 :\n",
    "            continue \n",
    "\n",
    "        for next_city , flight_cost in graph[current_city]:\n",
    "            new_cost = current_cost + flight_cost\n",
    "            new_stops = remaining_stops - 1\n",
    "\n",
    "            key = (next_city, new_stops)\n",
    "            if ( key not in min_cost or new_cost < min_cost[key]):\n",
    "                min_cost[key] = new_cost\n",
    "                heappush(heap, (new_cost, next_city, new_stops))\n",
    "    return -1\n"
   ]
  },
  {
   "cell_type": "markdown",
   "metadata": {},
   "source": [
    "#### *Another version :*"
   ]
  },
  {
   "cell_type": "code",
   "execution_count": 46,
   "metadata": {},
   "outputs": [],
   "source": [
    "from heapq import heappush, heappop\n",
    "\n",
    "def find_cheapest_route_v2(n, flights, src, dst, k):\n",
    "    # Create adjacency list\n",
    "    graph = [[] for _ in range(n)]\n",
    "    for start, end, price in flights:\n",
    "        graph[start].append((end, price))\n",
    "    \n",
    "    # Priority queue to store (total_cost, current_city, stops_remaining)\n",
    "    # We use min heap to always process cheapest routes first\n",
    "    heap = [(0, src, k+1)]\n",
    "    \n",
    "    # Keep track of minimum costs\n",
    "    # Key: (city, remaining_stops)\n",
    "    # Value: minimum cost to reach that city with those remaining stops\n",
    "    min_costs = {}\n",
    "    \n",
    "    while heap:\n",
    "        current_cost, current_city, remaining_stops = heappop(heap)\n",
    "        \n",
    "        # Reached destination\n",
    "        if current_city == dst:\n",
    "            return current_cost\n",
    "        \n",
    "        # No more stops allowed\n",
    "        if remaining_stops <= 0:\n",
    "            continue\n",
    "        \n",
    "        # Explore neighboring cities\n",
    "        for next_city, flight_cost in graph[current_city]:\n",
    "            new_cost = current_cost + flight_cost\n",
    "            new_stops = remaining_stops - 1\n",
    "            \n",
    "            # Key optimization: \n",
    "            # Only add to heap if:\n",
    "            # 1. We haven't seen this (city, stops) combination before\n",
    "            # 2. Or we've found a cheaper route to this city with same/more stops\n",
    "            key = (next_city, new_stops)\n",
    "            if (key not in min_costs or new_cost < min_costs[key]):\n",
    "                min_costs[key] = new_cost\n",
    "                heappush(heap, (new_cost, next_city, new_stops))\n",
    "    \n",
    "    # No route found\n",
    "    return -1"
   ]
  },
  {
   "cell_type": "markdown",
   "metadata": {},
   "source": [
    "##### *Tests:* "
   ]
  },
  {
   "cell_type": "code",
   "execution_count": 47,
   "metadata": {},
   "outputs": [
    {
     "name": "stdout",
     "output_type": "stream",
     "text": [
      "700\n",
      "700\n"
     ]
    }
   ],
   "source": [
    "n = 4  \n",
    "flights = [[0, 1, 100], [1, 2, 100], [2, 0, 100], [1, 3, 600], [2, 3, 200]]  \n",
    "src = 0  \n",
    "dst = 3  \n",
    "k = 1  \n",
    "\n",
    "###\n",
    "\n",
    "print(find_cheapest_route_v1(n, flights, src, dst, k))\n",
    "print(find_cheapest_route_v2(n, flights, src, dst, k))"
   ]
  },
  {
   "cell_type": "code",
   "execution_count": 48,
   "metadata": {},
   "outputs": [
    {
     "data": {
      "text/plain": [
       "200"
      ]
     },
     "execution_count": 48,
     "metadata": {},
     "output_type": "execute_result"
    }
   ],
   "source": [
    "n = 3  \n",
    "flights = [[0, 1, 100], [1, 2, 100], [0, 2, 500]]  \n",
    "src = 0  \n",
    "dst = 2  \n",
    "k = 1  \n",
    "find_cheapest_route_v1(n, flights, src, dst, k)"
   ]
  },
  {
   "cell_type": "code",
   "execution_count": 49,
   "metadata": {},
   "outputs": [
    {
     "data": {
      "text/plain": [
       "500"
      ]
     },
     "execution_count": 49,
     "metadata": {},
     "output_type": "execute_result"
    }
   ],
   "source": [
    "n = 3  \n",
    "flights = [[0, 1, 100], [1, 2, 100], [0, 2, 500]]  \n",
    "src = 0  \n",
    "dst = 2  \n",
    "k = 0  \n",
    "\n",
    "find_cheapest_route_v1(n, flights, src, dst, k)"
   ]
  },
  {
   "cell_type": "code",
   "execution_count": 50,
   "metadata": {},
   "outputs": [
    {
     "data": {
      "text/plain": [
       "400"
      ]
     },
     "execution_count": 50,
     "metadata": {},
     "output_type": "execute_result"
    }
   ],
   "source": [
    "n = 4  \n",
    "flights = [[0, 1, 100], [0, 2, 200], [1, 3, 300], [2, 3, 300]]  \n",
    "src = 0  \n",
    "dst = 3  \n",
    "k = 2  \n",
    "find_cheapest_route_v1(n, flights, src, dst, k)"
   ]
  },
  {
   "cell_type": "code",
   "execution_count": 51,
   "metadata": {},
   "outputs": [
    {
     "data": {
      "text/plain": [
       "400"
      ]
     },
     "execution_count": 51,
     "metadata": {},
     "output_type": "execute_result"
    }
   ],
   "source": [
    "n = 4  \n",
    "flights = [[0, 1, 100], [0, 2, 200], [1, 3, 300], [2, 3, 200]]  \n",
    "src = 0  \n",
    "dst = 3  \n",
    "k = 2  \n",
    "find_cheapest_route_v1(n, flights, src, dst, k)\n"
   ]
  },
  {
   "cell_type": "markdown",
   "metadata": {},
   "source": [
    "#### **Tests  with larger data**\n",
    "\n",
    "##### *I've decited to make a funciton ton generate random syntetic data*"
   ]
  },
  {
   "cell_type": "code",
   "execution_count": 52,
   "metadata": {},
   "outputs": [],
   "source": [
    "import random\n",
    "import time\n",
    "\n",
    "def generate_synthetic_data(num_cities, num_flights, max_cost):\n",
    "    \"\"\"\n",
    "    Generate a synthetic dataset for testing the algorithm.\n",
    "    \n",
    "    Args:\n",
    "        num_cities (int): Number of cities (nodes in the graph).\n",
    "        num_flights (int): Number of flights (edges in the graph).\n",
    "        max_cost (int): Maximum cost of a flight.\n",
    "    \n",
    "    Returns:\n",
    "        tuple: (n, flights, src, dst, k)\n",
    "    \"\"\"\n",
    "    flights = []\n",
    "    for _ in range(num_flights):\n",
    "        start = random.randint(0, num_cities - 1)\n",
    "        end = random.randint(0, num_cities - 1)\n",
    "        while end == start:  # Ensure no self-loops\n",
    "            end = random.randint(0, num_cities - 1)\n",
    "        cost = random.randint(1, max_cost)\n",
    "        flights.append([start, end, cost])\n",
    "    \n",
    "    src = random.randint(0, num_cities - 1)\n",
    "    dst = random.randint(0, num_cities - 1)\n",
    "    while dst == src:  # Ensure source and destination are different\n",
    "        dst = random.randint(0, num_cities - 1)\n",
    "    \n",
    "    k = random.randint(0, num_cities - 1)  # Randomize max stops\n",
    "    \n",
    "    return num_cities, flights, src, dst, k\n",
    "\n",
    "\n",
    "def test_algorithm_with_synthetic_data(algorithm, num_tests=5, num_cities=100, num_flights=1000, max_cost=500):\n",
    "    \"\"\"\n",
    "    Test the algorithm on synthetic datasets and measure performance.\n",
    "    \n",
    "    Args:\n",
    "        algorithm (function): The algorithm function to test.\n",
    "        num_tests (int): Number of test runs.\n",
    "        num_cities (int): Number of cities for each test.\n",
    "        num_flights (int): Number of flights for each test.\n",
    "        max_cost (int): Maximum flight cost.\n",
    "    \n",
    "    Returns:\n",
    "        None\n",
    "    \"\"\"\n",
    "    for i in range(num_tests):\n",
    "        print(f\"Test {i+1}:\")\n",
    "        n, flights, src, dst, k = generate_synthetic_data(num_cities, num_flights, max_cost)\n",
    "        start_time = time.time()\n",
    "        result = algorithm(n, flights, src, dst, k)\n",
    "        end_time = time.time()\n",
    "        print(f\"Source: {src}, Destination: {dst}, Max Stops: {k}\")\n",
    "        print(f\"Result: {result}\")\n",
    "        print(f\"Time Taken: {end_time - start_time:.4f} seconds\")\n",
    "        print(\"-\" * 40)"
   ]
  },
  {
   "cell_type": "code",
   "execution_count": 53,
   "metadata": {},
   "outputs": [
    {
     "name": "stdout",
     "output_type": "stream",
     "text": [
      "Test 1:\n",
      "Source: 63, Destination: 15, Max Stops: 376\n",
      "Result: 253\n",
      "Time Taken: 0.0033 seconds\n",
      "----------------------------------------\n",
      "Test 2:\n",
      "Source: 8, Destination: 112, Max Stops: 314\n",
      "Result: 552\n",
      "Time Taken: 0.0078 seconds\n",
      "----------------------------------------\n",
      "Test 3:\n",
      "Source: 206, Destination: 65, Max Stops: 147\n",
      "Result: 454\n",
      "Time Taken: 0.0047 seconds\n",
      "----------------------------------------\n",
      "Test 4:\n",
      "Source: 83, Destination: 415, Max Stops: 131\n",
      "Result: 246\n",
      "Time Taken: 0.0029 seconds\n",
      "----------------------------------------\n",
      "Test 5:\n",
      "Source: 168, Destination: 275, Max Stops: 249\n",
      "Result: 313\n",
      "Time Taken: 0.0040 seconds\n",
      "----------------------------------------\n"
     ]
    }
   ],
   "source": [
    "# Testare l'algoritmo su dataset sintetici\n",
    "test_algorithm_with_synthetic_data(find_cheapest_route_v1, num_tests=5, num_cities=500, num_flights=10000, max_cost=1000)"
   ]
  },
  {
   "cell_type": "code",
   "execution_count": 54,
   "metadata": {},
   "outputs": [
    {
     "name": "stdout",
     "output_type": "stream",
     "text": [
      "Test 1:\n",
      "Source: 130, Destination: 404, Max Stops: 103\n",
      "Result: 260\n",
      "Time Taken: 0.0023 seconds\n",
      "----------------------------------------\n",
      "Test 2:\n",
      "Source: 399, Destination: 152, Max Stops: 399\n",
      "Result: 398\n",
      "Time Taken: 0.0214 seconds\n",
      "----------------------------------------\n",
      "Test 3:\n",
      "Source: 26, Destination: 78, Max Stops: 360\n",
      "Result: 292\n",
      "Time Taken: 0.0015 seconds\n",
      "----------------------------------------\n",
      "Test 4:\n",
      "Source: 220, Destination: 120, Max Stops: 121\n",
      "Result: 400\n",
      "Time Taken: 0.0111 seconds\n",
      "----------------------------------------\n",
      "Test 5:\n",
      "Source: 252, Destination: 370, Max Stops: 199\n",
      "Result: 313\n",
      "Time Taken: 0.0044 seconds\n",
      "----------------------------------------\n"
     ]
    }
   ],
   "source": [
    "# Testare l'algoritmo su dataset sintetici con prima implementazione::::\n",
    "test_algorithm_with_synthetic_data(find_cheapest_route_v2, num_tests=5, num_cities=500, num_flights=10000, max_cost=1000)"
   ]
  },
  {
   "cell_type": "markdown",
   "metadata": {},
   "source": [
    "##### *Here's a tesk with edge case , just to see how it works with exeptions*"
   ]
  },
  {
   "cell_type": "code",
   "execution_count": 55,
   "metadata": {},
   "outputs": [],
   "source": [
    "def edge_case_tests(algorithm):\n",
    "    \"\"\"\n",
    "    Test the algorithm with edge cases.\n",
    "    \n",
    "    Args:\n",
    "        algorithm (function): The algorithm function to test.\n",
    "    \n",
    "    Returns:\n",
    "        None\n",
    "    \"\"\"\n",
    "    print(\"Running Edge Case Tests...\\n\")\n",
    "    \n",
    "    # Case 1: Disconnected Graph\n",
    "    print(\"Test 1: Disconnected Graph\")\n",
    "    n = 4\n",
    "    flights = [[0, 1, 100], [2, 3, 200]]  # No connection between src (0) and dst (3)\n",
    "    src, dst, k = 0, 3, 1\n",
    "    result = algorithm(n, flights, src, dst, k)\n",
    "    print(f\"Expected: -1, Got: {result}\\n\")\n",
    "    \n",
    "    # Case 2: Negative Weight Edge\n",
    "    print(\"Test 2: Negative Weight Edge\")\n",
    "    n = 3\n",
    "    flights = [[0, 1, 100], [1, 2, -50], [0, 2, 200]]  # Negative cost not supported by Dijkstra's algorithm\n",
    "    src, dst, k = 0, 2, 1\n",
    "    result = algorithm(n, flights, src, dst, k)\n",
    "    print(f\"Expected: Behavior undefined (algorithm assumes positive weights), Got: {result}\\n\")\n",
    "    \n",
    "    # Case 3: Missing Route\n",
    "    print(\"Test 3: Missing Route\")\n",
    "    n = 3\n",
    "    flights = []  # No flights available\n",
    "    src, dst, k = 0, 2, 1\n",
    "    result = algorithm(n, flights, src, dst, k)\n",
    "    print(f\"Expected: -1, Got: {result}\\n\")\n",
    "    \n",
    "    # Case 4: Single Node Graph\n",
    "    print(\"Test 4: Single Node Graph\")\n",
    "    n = 1\n",
    "    flights = []  # Only one city, no flights\n",
    "    src, dst, k = 0, 0, 0\n",
    "    result = algorithm(n, flights, src, dst, k)\n",
    "    print(f\"Expected: 0 (same city), Got: {result}\\n\")\n",
    "    \n",
    "    # Case 5: Exact Stop Limit\n",
    "    print(\"Test 5: Exact Stop Limit\")\n",
    "    n = 4\n",
    "    flights = [[0, 1, 100], [1, 2, 100], [2, 3, 100]]\n",
    "    src, dst, k = 2, 3, 0  # Can only take one flight (exact stop limit)\n",
    "    result = algorithm(n, flights, src, dst, k)\n",
    "    print(f\"Expected: 100, Got: {result}\\n\")\n",
    "\n",
    "    if any(cost < 0 for _, _, cost in flights):\n",
    "        raise ValueError(\"Negative weights detected. Algorithm supports only positive weights.\")"
   ]
  },
  {
   "cell_type": "code",
   "execution_count": 56,
   "metadata": {},
   "outputs": [
    {
     "name": "stdout",
     "output_type": "stream",
     "text": [
      "Running Edge Case Tests...\n",
      "\n",
      "Test 1: Disconnected Graph\n",
      "Expected: -1, Got: -1\n",
      "\n",
      "Test 2: Negative Weight Edge\n",
      "Expected: Behavior undefined (algorithm assumes positive weights), Got: 50\n",
      "\n",
      "Test 3: Missing Route\n",
      "Expected: -1, Got: -1\n",
      "\n",
      "Test 4: Single Node Graph\n",
      "Expected: 0 (same city), Got: 0\n",
      "\n",
      "Test 5: Exact Stop Limit\n",
      "Expected: 100, Got: 100\n",
      "\n"
     ]
    }
   ],
   "source": [
    "# Eseguire i test per i casi limite\n",
    "edge_case_tests(find_cheapest_route_v1)"
   ]
  },
  {
   "cell_type": "code",
   "execution_count": 57,
   "metadata": {},
   "outputs": [],
   "source": [
    "def validate_and_run(algorithm, n, flights, src, dst, k):\n",
    "    \"\"\"\n",
    "    Validate input and run the algorithm.\n",
    "    \n",
    "    Args:\n",
    "        algorithm (function): The algorithm function.\n",
    "        n (int): Number of cities.\n",
    "        flights (list): List of flights.\n",
    "        src (int): Source city.\n",
    "        dst (int): Destination city.\n",
    "        k (int): Maximum number of stops.\n",
    "    \n",
    "    Returns:\n",
    "        int: Result of the algorithm or validation error.\n",
    "    \"\"\"\n",
    "    # Check for negative weights\n",
    "    if any(cost < 0 for _, _, cost in flights):\n",
    "        print(\"Error: Negative weights detected. Algorithm supports only positive weights.\")\n",
    "        return None\n",
    "    return algorithm(n, flights, src, dst, k)"
   ]
  },
  {
   "cell_type": "code",
   "execution_count": 58,
   "metadata": {},
   "outputs": [
    {
     "name": "stdout",
     "output_type": "stream",
     "text": [
      "150\n"
     ]
    }
   ],
   "source": [
    "# Test negative weights with validation\n",
    "print(validate_and_run(find_cheapest_route_v1, 3, [[0, 1, 100], [1, 2, 50], [0, 2, 200]], 0, 2, 1))"
   ]
  },
  {
   "cell_type": "markdown",
   "metadata": {},
   "source": [
    "### **Analysis of the algorithm's efficiency:**\n",
    "\n",
    "#### **Time Complexity Analysis:**\n",
    "1. Worst-case Time Complexity: $O(k * n^2)$\n",
    "   - The queue sorting operation takes $O(n log n)$\n",
    "   - Nested loop for exploring flights for each city\n",
    "   - Potential exploration of multiple routes for each city-stop combination\n",
    "\n",
    "#### **Space Complexity Analysis:**\n",
    "1. Worst-case Space Complexity: $O(k * n)$\n",
    "   - Adjacency list: $O(m)$, where m is number of flights\n",
    "   - Distance dictionary:$O(k * n)$\n",
    "   - Queue storage: $O(k * n)$\n",
    "\n",
    "#### Efficiency Evaluation for Large Graphs $(n > 100)$:\n",
    "\n",
    "Limitations:\n",
    "1. Quadratic time complexity becomes problematic\n",
    "   - For $n = 100$, time complexity becomes $O(10,000)$\n",
    "\n",
    "Performance Bottlenecks:\n",
    "- Repeated route explorations\n",
    "- Sorting queue in each iteration\n",
    "- Storing multiple route variations\n",
    "\n",
    "Inefficiency Indicators:\n",
    "- Becomes computationally expensive for dense graphs\n",
    "- High memory consumption\n",
    "- Slow for real-time routing applications\n",
    "\n",
    "Optimization Strategies:\n",
    "1. Use priority queue instead of list sorting\n",
    "2. Implement more aggressive pruning\n",
    "3. Consider alternative approaches like Dijkstra's with modifications\n",
    "\n",
    "Recommended Improvements:\n",
    "- Use heapq for efficient queue management\n",
    "- Implement early termination conditions\n",
    "- Reduce redundant route explorations\n",
    "\n",
    "Practical Recommendation:\n",
    "- Suitable for small to medium-sized graphs $(n < 50)$\n",
    "- Not recommended for large, complex networks without significant optimization\n",
    "\n",
    "Would you like me to elaborate on any specific aspect of the complexity analysis?"
   ]
  },
  {
   "cell_type": "markdown",
   "metadata": {},
   "source": [
    "#### Let's dive deep into the efficiency for large graphs:\n",
    "\n",
    "Efficiency Analysis for Large Graphs $(n > 100)$:\n",
    "\n",
    "Computational Challenges:\n",
    "1. Algorithmic Complexity\n",
    "   - Current implementation: $O(k * n^2)$\n",
    "   - For $n = 100$, computational steps become massive\n",
    "   - Quadratic growth means exponential time increase\n",
    "\n",
    "2. Memory Constraints\n",
    "   - Stores multiple route variations\n",
    "   - $O(k * n)$ space complexity becomes memory-intensive\n",
    "   - Risk of memory overflow for large graphs\n",
    "\n",
    "Performance Breakdown:\n",
    "- Small Graphs $(n < 50)$: Very Efficient\n",
    "- Medium Graphs $(50 < n < 100)$: Acceptable Performance\n",
    "- Large Graphs $(n > 100)$: Significant Performance Degradation\n",
    "\n",
    "Specific Inefficiencies:\n",
    "- Repeated route calculations\n",
    "- Extensive queue management\n",
    "- Redundant path explorations\n",
    "- High computational overhead\n",
    "\n",
    "Practical Implications:\n",
    "- Real-time routing becomes challenging\n",
    "- Not suitable for large transportation networks\n",
    "- Significant computational time and resource consumption\n",
    "\n",
    "Mitigation Strategies:\n",
    "1. Advanced Pruning Techniques\n",
    "   - Implement more aggressive route filtering\n",
    "   - Early termination of unpromising routes\n",
    "\n",
    "2. Algorithmic Optimizations\n",
    "   - Use priority queue (heapq)\n",
    "   - Implement more efficient graph traversal\n",
    "   - Reduce redundant computations\n",
    "\n",
    "3. Alternative Approaches\n",
    "   - Dijkstra's algorithm with modifications\n",
    "   - A* search algorithm\n",
    "   - Dynamic programming with memoization\n",
    "\n",
    "Recommendation:\n",
    "- Not recommended for graphs with n > 100 without significant optimization\n",
    "- Requires substantial algorithmic redesign for large-scale applications\n",
    "\n",
    "Comparative Efficiency:\n",
    "- Current Algorithm:$O(k * n^2)$\n",
    "- Desired Algorithm: $O(k * n * log(n))$ or better\n",
    "\n",
    "Would you like me to elaborate on potential optimization techniques?"
   ]
  },
  {
   "cell_type": "markdown",
   "metadata": {},
   "source": [
    "## **Optimized approach using Dijkstra's algorithm with a priority queue:**"
   ]
  },
  {
   "cell_type": "markdown",
   "metadata": {},
   "source": []
  },
  {
   "cell_type": "code",
   "execution_count": 59,
   "metadata": {},
   "outputs": [],
   "source": [
    "import heapq\n",
    "\n",
    "def find_cheapest_route_optimized(n, flights, src, dst, k):\n",
    "    # Create adjacency list\n",
    "    graph = [[] for _ in range(n)]\n",
    "    for start, end, price in flights:\n",
    "        graph[start].append((end, price))\n",
    "    \n",
    "    # Priority queue to store (cost, city, stops_remaining)\n",
    "    priotiy_queue = [(0, src, k + 1)]\n",
    "    \n",
    "    # Track visited states to prevent redundant explorations\n",
    "    visited = {}\n",
    "    \n",
    "    while priotiy_queue:\n",
    "        # Extract the cheapest route\n",
    "        current_cost, current_city, stops_left = heapq.heappop(priotiy_queue)\n",
    "        \n",
    "        # Destination reached\n",
    "        if current_city == dst:\n",
    "            return current_cost\n",
    "        \n",
    "        # Skip if this state has been seen with better conditions\n",
    "        state_key = (current_city, stops_left)\n",
    "        if state_key in visited and visited[state_key] <= current_cost:\n",
    "            continue\n",
    "        \n",
    "        # Mark current state\n",
    "        visited[state_key] = current_cost\n",
    "        \n",
    "        # No more stops available\n",
    "        if stops_left == 0:\n",
    "            continue\n",
    "        \n",
    "        # Explore neighboring cities\n",
    "        for next_city, flight_cost in graph[current_city]:\n",
    "            new_cost = current_cost + flight_cost\n",
    "            \n",
    "            # Add to priority queue\n",
    "            heapq.heappush(priotiy_queue, (new_cost, next_city, stops_left - 1))\n",
    "    \n",
    "    # No route found\n",
    "    return -1\n",
    "\n",
    "# Optimization Analysis\n",
    "# Time Complexity: O(k * E * log(V))\n",
    "#   - E: Number of edges (flights)\n",
    "#   - V: Number of vertices (cities)\n",
    "#   - k: Maximum number of stops\n",
    "\n",
    "# Space Complexity: O(V + E)"
   ]
  },
  {
   "cell_type": "code",
   "execution_count": 60,
   "metadata": {},
   "outputs": [
    {
     "name": "stdout",
     "output_type": "stream",
     "text": [
      "700\n",
      "700\n",
      "700\n"
     ]
    }
   ],
   "source": [
    "n = 4  \n",
    "flights = [[0, 1, 100], [1, 2, 100], [2, 0, 100], [1, 3, 600], [2, 3, 200]]  \n",
    "src = 0  \n",
    "dst = 3  \n",
    "k = 1  \n",
    "\n",
    "###\n",
    "\n",
    "print(find_cheapest_route_v1(n, flights, src, dst, k))\n",
    "print(find_cheapest_route_v2(n, flights, src, dst, k))\n",
    "print(find_cheapest_route_optimized(n, flights, src, dst, k))"
   ]
  },
  {
   "cell_type": "markdown",
   "metadata": {},
   "source": [
    "## Pseudocode for the optimied ALGORITHM FindCheapestRouteOptimized(n, flights, src, dst, k)\n",
    "\n",
    "    // Create adjacency list representation of flights\n",
    "    INITIALIZE graph as 2D list with n empty lists\n",
    "    FOR EACH flight IN flights DO\n",
    "        ADD (destination, cost) to graph[source]\n",
    "    \n",
    "    // Priority queue to manage routes\n",
    "    INITIALIZE priorityQueue PQ\n",
    "    PQ.push((0, src, k+1))  // (current_cost, current_city, remaining_stops)\n",
    "    \n",
    "    // Visited state tracking\n",
    "    INITIALIZE visited_states as dictionary\n",
    "    \n",
    "    WHILE PQ is not empty DO\n",
    "        (current_cost, current_city, stops_left) = PQ.pop()\n",
    "        \n",
    "        // Destination reached\n",
    "        IF current_city == dst THEN\n",
    "            RETURN current_cost\n",
    "        \n",
    "        // Avoid redundant explorations\n",
    "        state_key = (current_city, stops_left)\n",
    "        IF state_key exists in visited_states AND \n",
    "           visited_states[state_key] <= current_cost THEN\n",
    "            CONTINUE\n",
    "        \n",
    "        // Update visited states\n",
    "        visited_states[state_key] = current_cost\n",
    "        \n",
    "        // No more stops available\n",
    "        IF stops_left == 0 THEN\n",
    "            CONTINUE\n",
    "        \n",
    "        // Explore neighboring cities\n",
    "        FOR EACH (next_city, flight_cost) IN graph[current_city] DO\n",
    "            new_cost = current_cost + flight_cost\n",
    "            PQ.push((new_cost, next_city, stops_left - 1))\n",
    "    \n",
    "    // No route found\n",
    "    RETURN -1"
   ]
  },
  {
   "cell_type": "markdown",
   "metadata": {},
   "source": [
    "# Time Complexity Analysis of Cheapest Route Algorithm\n",
    "\n",
    "## Algorithmic Complexity Breakdown\n",
    "\n",
    "### 1. Theoretical Complexity\n",
    "- **Notation:** $O(E * log(V) * k)$\n",
    "  - E: Number of Edges (Flights)\n",
    "  - V: Number of Vertices (Cities)\n",
    "  - k: Maximum Number of Stops\n",
    "\n",
    "### 2. Complexity Components\n",
    "\n",
    "| Component | Operation | Complexity | Explanation |\n",
    "|-----------|-----------|------------|-------------|\n",
    "| Graph Creation | Adjacency List | $O(E)$ | Iterate through all flights |\n",
    "| Priority Queue | Insertion/Extraction | $O(log(V))$ | Heap operations |\n",
    "| Route Exploration | Traversal | $O(k)$ | Limited by stop constraints |\n",
    "\n",
    "\n",
    "### 3. Performance Scenarios\n",
    "\n",
    "| Graph Size | Performance | Scalability |\n",
    "|------------|-------------|-------------|\n",
    "| Small $(n < 50)$ | ⭐⭐⭐⭐⭐ | Extremely Efficient |\n",
    "| Medium $(50-100)$ | ⭐⭐⭐⭐ | Very Good |\n",
    "| Large $(n > 100)$ | ⭐⭐⭐ | Good with Optimization |\n",
    "\n",
    "### 4. Computational Breakdown\n",
    "\n",
    "\n",
    "Time Complexity $O(E * log(V) * k)$ means:\n",
    "- Each edge potentially explored\n",
    "- Logarithmic selection of routes\n",
    "- Constrained by maximum stops\n",
    "\n",
    "\n",
    "### 5. Space vs Time Trade-off\n",
    "\n",
    "\n",
    "#### Space Complexity: \n",
    "$O(V + E + k)$ \n",
    "$space_usage = cities + flights + max_stops$\n",
    "\n",
    "\n",
    "### 6. Big O Notation Comparison\n",
    "\n",
    "| Algorithm | Time Complexity | Efficiency |\n",
    "|-----------|-----------------|------------|\n",
    "| Initial Approach | $O(k * n²)$ | Poor Scaling |\n",
    "| Optimized Approach | $O(E * log(V) * k)$ | Efficient Scaling |\n",
    "\n",
    "### 7. Practical Implications\n",
    "\n",
    "- ✅ Logarithmic route selection\n",
    "- ✅ Constrained by stops\n",
    "- ✅ Efficient for most routing scenarios\n",
    "- ❗ Performance depends on graph density\n",
    "\n",
    "### 8. Optimization Techniques\n",
    "\n",
    "1. Priority Queue Management\n",
    "2. Visited State Memoization\n",
    "3. Early Route Termination\n",
    "4. Intelligent Pruning"
   ]
  },
  {
   "cell_type": "markdown",
   "metadata": {},
   "source": [
    "## LLM optimazied version of the algorithm :: \n"
   ]
  },
  {
   "cell_type": "code",
   "execution_count": 61,
   "metadata": {},
   "outputs": [],
   "source": [
    "import heapq\n",
    "from collections import defaultdict\n",
    "\n",
    "def find_cheapest_route_optimized_v3(n, flights, src, dst, k):\n",
    "    # Create adjacency list\n",
    "    graph = defaultdict(list)\n",
    "    for start, end, price in flights:\n",
    "        graph[start].append((end, price))\n",
    "    \n",
    "    # Priority queue to store (cost, city, stops)\n",
    "    priority_queue = [(0, src, 0)]  # cost, current city, current stops\n",
    "    \n",
    "    # Dictionary to store the minimum cost to reach a city with a given number of stops\n",
    "    min_cost_with_stops = defaultdict(lambda: float('inf'))\n",
    "    min_cost_with_stops[(src, 0)] = 0\n",
    "    \n",
    "    while priority_queue:\n",
    "        current_cost, current_city, current_stops = heapq.heappop(priority_queue)\n",
    "        \n",
    "        # Stop if we reach the destination\n",
    "        if current_city == dst:\n",
    "            return current_cost\n",
    "        \n",
    "        # If stops exceed k, skip processing this path\n",
    "        if current_stops > k:\n",
    "            continue\n",
    "        \n",
    "        # Explore neighbors\n",
    "        for neighbor, flight_cost in graph[current_city]:\n",
    "            new_cost = current_cost + flight_cost\n",
    "            \n",
    "            # Push to the queue only if this path is better\n",
    "            if new_cost < min_cost_with_stops[(neighbor, current_stops + 1)]:\n",
    "                min_cost_with_stops[(neighbor, current_stops + 1)] = new_cost\n",
    "                heapq.heappush(priority_queue, (new_cost, neighbor, current_stops + 1))\n",
    "    \n",
    "    # If no route is found\n",
    "    return -1"
   ]
  },
  {
   "cell_type": "code",
   "execution_count": 62,
   "metadata": {},
   "outputs": [
    {
     "name": "stdout",
     "output_type": "stream",
     "text": [
      "700\n"
     ]
    }
   ],
   "source": [
    "n = 4  \n",
    "flights = [[0, 1, 100], [1, 2, 100], [2, 0, 100], [1, 3, 600], [2, 3, 200]]  \n",
    "src = 0  \n",
    "dst = 3  \n",
    "k = 1  \n",
    "\n",
    "###\n",
    "\n",
    "print(find_cheapest_route_optimized_v3(n, flights, src, dst, k))"
   ]
  },
  {
   "cell_type": "markdown",
   "metadata": {},
   "source": [
    "## Comparison Table\n",
    "\n",
    "| **Criteria**            | **Original Algorithm**                                         | **Optimized Algorithm (v2 - LLM one's)**                          |\n",
    "|--------------------------|---------------------------------------------------------------|-------------------------------------------------------|\n",
    "| **Data Structure**       | Standard adjacency list, `visited` dictionary                | `defaultdict` for adjacency list and tracking states |\n",
    "| **Optimization**         | Checks redundant paths but may explore unnecessary states     | Uses `min_cost_with_stops` to prune unnecessary paths |\n",
    "| **Performance**          | Slightly slower due to redundant states                      | Faster due to better pruning                          |\n",
    "| **Time Complexity**      | $(O(k \\cdot E \\cdot \\log(V))) $                               | $(O(k \\cdot E \\cdot \\log(V))$) (same complexity, but fewer operations) |\n",
    "| **Space Complexity**     | $(O(V + E))$                                            | $(O(V + E)$) (slightly more efficient dictionary usage) |\n",
    "| **Correctness**          | Correct, but potentially less efficient for large graphs      | Correct and handles large graphs better               |"
   ]
  }
 ],
 "metadata": {
  "kernelspec": {
   "display_name": "3.11.6",
   "language": "python",
   "name": "python3"
  },
  "language_info": {
   "codemirror_mode": {
    "name": "ipython",
    "version": 3
   },
   "file_extension": ".py",
   "mimetype": "text/x-python",
   "name": "python",
   "nbconvert_exporter": "python",
   "pygments_lexer": "ipython3",
   "version": "3.11.6"
  }
 },
 "nbformat": 4,
 "nbformat_minor": 2
}
